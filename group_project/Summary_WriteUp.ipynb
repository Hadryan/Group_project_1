{
 "cells": [
  {
   "cell_type": "markdown",
   "metadata": {},
   "source": [
    "# What Makes a Genre?"
   ]
  },
  {
   "cell_type": "markdown",
   "metadata": {},
   "source": [
    "When people discuss the \"kind\" of music they like, a common way to interpret this is by genre. But what does that say about the quality of music within those genres? Our team sought to explore this question by looking at the Spotify API and comparing the qualities of a sampling of songs from each genre. By examining how the traits of songs, like popularity and various \"audio features\", differ between genres, people can gain a better understanding of how a genre can suit specific tastes."
   ]
  },
  {
   "cell_type": "markdown",
   "metadata": {},
   "source": [
    "## Do song audio features of different genres have an effect on each other?"
   ]
  },
  {
   "cell_type": "markdown",
   "metadata": {},
   "source": [
    "Spotify provides scores of several different \"audio features\" about every song through their API. These features include measures for how likely someone can dance to a song, how likely the presence of spoken word is, how instrumental it is, and whether it sounds more positive or negative. In order to determine if any of these audio features had an effect on each other, we looked at regression models of all audio features to determine if any of the relationships seemed interesting.\n",
    "\n",
    "<img src=\"outputs/all_scatters.png\">"
   ]
  },
  {
   "cell_type": "markdown",
   "metadata": {},
   "source": [
    "## Is there a relationship between \"energy\" and \"danceability\"?"
   ]
  },
  {
   "cell_type": "markdown",
   "metadata": {},
   "source": [
    "Danceability and Engergy seemed to have the most clear relationship, so we examined this further.\n",
    "\n",
    "According to Spotify, danceability is determined through \"elements including tempo, rhythm stability, beat stregnth, and overall regularity.\" A track's danceability score is range between 0.0 and 1.0, with a score of 1.0 being most danceable.\n",
    "\n",
    "Energy is also measured on a scale between 0.0 and 1.0, and is determined through \"perceptual features... [which] include dynamic range, perceigved loudness, timbre, onset rate, and general entropy.\"\n",
    "\n",
    "It seems intuitive that a positively correlated relationship would exist between these two features. A song must have energy in order to dance to it. However, our results show that there is a window of energy where songs are generally danceable.\n",
    "\n",
    "<img src=\"outputs/regressEnergy_Danceability.png\">\n",
    "<img src=\"outputs/scatterDanceability_Energy.png\">\n",
    "<img src=\"outputs/scatterDanceability_scatter_Energy.png\">\n",
    "<img src=\"outputs/scatterEnergy_Danceability.png\">\n",
    "<img src=\"outputs/snsenergy_dance_parabola.png\">"
   ]
  },
  {
   "cell_type": "markdown",
   "metadata": {},
   "source": [
    "## Does this relationship differ by genre?"
   ]
  },
  {
   "cell_type": "markdown",
   "metadata": {},
   "source": [
    "There does seem to be some effect on this distribution between genres.\n",
    "\n",
    "<img src=\"outputs/by_genre_classical.png\">\n",
    "<img src=\"outputs/by_genre_hip-hop.png\">\n",
    "<img src=\"outputs/by_genre_electronic.png\">\n",
    "<img src=\"outputs/snsgenrelist_parabolas.png\">"
   ]
  },
  {
   "cell_type": "markdown",
   "metadata": {},
   "source": [
    "## How does song duration vary by genre?"
   ]
  },
  {
   "cell_type": "markdown",
   "metadata": {},
   "source": [
    "<img src=\"outputs/Average_duration_bar_graph.png\">"
   ]
  },
  {
   "cell_type": "markdown",
   "metadata": {},
   "source": [
    "## Which genres are most and least popular?"
   ]
  },
  {
   "cell_type": "markdown",
   "metadata": {},
   "source": [
    "<img src=\"outputs/Average_popularity_bar_graph.png\">"
   ]
  },
  {
   "cell_type": "markdown",
   "metadata": {},
   "source": [
    "## Are there clear correlations in the audio qualities of genres, that derive from different continents?"
   ]
  },
  {
   "cell_type": "markdown",
   "metadata": {},
   "source": [
    "European and Asian genres have consistently high levels of Energy. European genres are vaguely more 'speechy' than Asian genres. Indian and Mandopo songs are from completely different cultures, however they have similar energy.\n",
    "<img src=\"outputs/Asian_Genre_Audio_Attributes.png\">\n",
    "<img src=\"outputs/European_Genre_Audio_Attributes.png\">"
   ]
  },
  {
   "cell_type": "markdown",
   "metadata": {},
   "source": [
    "## Does genre have an affect on song key?"
   ]
  },
  {
   "cell_type": "markdown",
   "metadata": {},
   "source": [
    "<img src=\"outputs/spotify_keys.png\">\n",
    "There does appear to be a relationship between genre and key. When looking at the percentages of all songs from the sample ignoring genre, the distribution of keys is relatively equitable between keys A, G, C, D, and C#/Db, again between keys F, B, and E, and again between F#/Gb, G#/Ab, and A#/Bb. D#/Eb is the least used key in songs across genres by a wide margin.\n",
    "\n",
    "<img src=\"outputs/classical_keys.png\">\n",
    "<img src=\"outputs/death-metal_keys.png\">\n",
    "<img src=\"outputs/hip-hop_keys.png\">\n",
    "\n",
    "Looking at individual genres, however, songs tend to concentrate in just a few keys, in some genres more than others. In \"hip-hop\" the predominant key is C#/Db, with 20% of songs falling within this key and the second most used key being G at 14%. However, classical music is split, with keys D and G being the most popular keys with 16% shares each."
   ]
  }
 ],
 "metadata": {
  "kernelspec": {
   "display_name": "Python 3.7.7 64-bit ('PythonDataViz': conda)",
   "language": "python",
   "name": "python37764bitpythondatavizconda976a4584b18943658ad6807c60f62839"
  },
  "language_info": {
   "codemirror_mode": {
    "name": "ipython",
    "version": 3
   },
   "file_extension": ".py",
   "mimetype": "text/x-python",
   "name": "python",
   "nbconvert_exporter": "python",
   "pygments_lexer": "ipython3",
   "version": "3.7.7"
  }
 },
 "nbformat": 4,
 "nbformat_minor": 4
}
